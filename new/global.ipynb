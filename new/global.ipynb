{
 "cells": [
  {
   "cell_type": "code",
   "execution_count": 3,
   "metadata": {},
   "outputs": [
    {
     "name": "stderr",
     "output_type": "stream",
     "text": [
      "\u001b[93mWARNING \u001b[0m:   DEPRECATED FEATURE: flwr.server.start_server() is deprecated.\n",
      "\tInstead, use the `flower-superlink` CLI command to start a SuperLink as shown below:\n",
      "\n",
      "\t\t$ flower-superlink --insecure\n",
      "\n",
      "\tTo view usage and all available options, run:\n",
      "\n",
      "\t\t$ flower-superlink --help\n",
      "\n",
      "\tUsing `start_server()` is deprecated.\n",
      "\n",
      "            This is a deprecated feature. It will be removed\n",
      "            entirely in future versions of Flower.\n",
      "        \n"
     ]
    },
    {
     "name": "stderr",
     "output_type": "stream",
     "text": [
      "\u001b[92mINFO \u001b[0m:      Starting Flower server, config: num_rounds=20, no round_timeout\n",
      "\u001b[92mINFO \u001b[0m:      Flower ECE: gRPC server running (20 rounds), SSL is disabled\n",
      "\u001b[92mINFO \u001b[0m:      [INIT]\n",
      "\u001b[92mINFO \u001b[0m:      Requesting initial parameters from one random client\n"
     ]
    },
    {
     "name": "stdout",
     "output_type": "stream",
     "text": [
      "[Server] Starting Federated Learning with Secure Aggregation...\n"
     ]
    },
    {
     "name": "stderr",
     "output_type": "stream",
     "text": [
      "\u001b[92mINFO \u001b[0m:      Received initial parameters from one random client\n",
      "\u001b[92mINFO \u001b[0m:      Starting evaluation of initial global parameters\n",
      "\u001b[92mINFO \u001b[0m:      Evaluation returned no results (`None`)\n",
      "\u001b[92mINFO \u001b[0m:      \n",
      "\u001b[92mINFO \u001b[0m:      [ROUND 1]\n",
      "\u001b[92mINFO \u001b[0m:      configure_fit: strategy sampled 2 clients (out of 2)\n",
      "\u001b[92mINFO \u001b[0m:      aggregate_fit: received 2 results and 0 failures\n",
      "\u001b[93mWARNING \u001b[0m:   No fit_metrics_aggregation_fn provided\n",
      "\u001b[92mINFO \u001b[0m:      configure_evaluate: strategy sampled 2 clients (out of 2)\n",
      "\u001b[92mINFO \u001b[0m:      aggregate_evaluate: received 2 results and 0 failures\n",
      "\u001b[93mWARNING \u001b[0m:   No evaluate_metrics_aggregation_fn provided\n",
      "\u001b[92mINFO \u001b[0m:      \n",
      "\u001b[92mINFO \u001b[0m:      [ROUND 2]\n",
      "\u001b[92mINFO \u001b[0m:      configure_fit: strategy sampled 2 clients (out of 2)\n"
     ]
    },
    {
     "name": "stdout",
     "output_type": "stream",
     "text": [
      "[Server] Waiting for at least 2 clients to connect...\n",
      "[Server] Minimum clients connected. Starting aggregation...\n",
      "[Server] Securely aggregating model updates for round 1...\n",
      "Round 1: Aggregated Loss: 4.2137\n",
      "[Server] Securely aggregating evaluation results for round 1...\n",
      "[Server] Validation Accuracy after Round 1: 0.8514\n"
     ]
    },
    {
     "name": "stderr",
     "output_type": "stream",
     "text": [
      "\u001b[92mINFO \u001b[0m:      aggregate_fit: received 2 results and 0 failures\n",
      "\u001b[92mINFO \u001b[0m:      configure_evaluate: strategy sampled 2 clients (out of 2)\n",
      "\u001b[92mINFO \u001b[0m:      aggregate_evaluate: received 2 results and 0 failures\n",
      "\u001b[92mINFO \u001b[0m:      \n",
      "\u001b[92mINFO \u001b[0m:      [ROUND 3]\n",
      "\u001b[92mINFO \u001b[0m:      configure_fit: strategy sampled 2 clients (out of 2)\n"
     ]
    },
    {
     "name": "stdout",
     "output_type": "stream",
     "text": [
      "[Server] Waiting for at least 2 clients to connect...\n",
      "[Server] Minimum clients connected. Starting aggregation...\n",
      "[Server] Securely aggregating model updates for round 2...\n",
      "Round 2: Aggregated Loss: 3.8847\n",
      "[Server] Securely aggregating evaluation results for round 2...\n",
      "[Server] Validation Accuracy after Round 2: 0.8528\n"
     ]
    },
    {
     "name": "stderr",
     "output_type": "stream",
     "text": [
      "\u001b[92mINFO \u001b[0m:      aggregate_fit: received 2 results and 0 failures\n",
      "\u001b[92mINFO \u001b[0m:      configure_evaluate: strategy sampled 2 clients (out of 2)\n",
      "\u001b[92mINFO \u001b[0m:      aggregate_evaluate: received 2 results and 0 failures\n",
      "\u001b[92mINFO \u001b[0m:      \n",
      "\u001b[92mINFO \u001b[0m:      [ROUND 4]\n",
      "\u001b[92mINFO \u001b[0m:      configure_fit: strategy sampled 2 clients (out of 2)\n"
     ]
    },
    {
     "name": "stdout",
     "output_type": "stream",
     "text": [
      "[Server] Waiting for at least 2 clients to connect...\n",
      "[Server] Minimum clients connected. Starting aggregation...\n",
      "[Server] Securely aggregating model updates for round 3...\n",
      "Round 3: Aggregated Loss: 3.7523\n",
      "[Server] Securely aggregating evaluation results for round 3...\n",
      "[Server] Validation Accuracy after Round 3: 0.8538\n"
     ]
    },
    {
     "name": "stderr",
     "output_type": "stream",
     "text": [
      "\u001b[92mINFO \u001b[0m:      aggregate_fit: received 2 results and 0 failures\n",
      "\u001b[92mINFO \u001b[0m:      configure_evaluate: strategy sampled 2 clients (out of 2)\n",
      "\u001b[92mINFO \u001b[0m:      aggregate_evaluate: received 2 results and 0 failures\n",
      "\u001b[92mINFO \u001b[0m:      \n",
      "\u001b[92mINFO \u001b[0m:      [ROUND 5]\n",
      "\u001b[92mINFO \u001b[0m:      configure_fit: strategy sampled 2 clients (out of 2)\n"
     ]
    },
    {
     "name": "stdout",
     "output_type": "stream",
     "text": [
      "[Server] Waiting for at least 2 clients to connect...\n",
      "[Server] Minimum clients connected. Starting aggregation...\n",
      "[Server] Securely aggregating model updates for round 4...\n",
      "Round 4: Aggregated Loss: 3.6953\n",
      "[Server] Securely aggregating evaluation results for round 4...\n",
      "[Server] Validation Accuracy after Round 4: 0.8542\n"
     ]
    },
    {
     "name": "stderr",
     "output_type": "stream",
     "text": [
      "\u001b[92mINFO \u001b[0m:      aggregate_fit: received 2 results and 0 failures\n",
      "\u001b[92mINFO \u001b[0m:      configure_evaluate: strategy sampled 2 clients (out of 2)\n",
      "\u001b[92mINFO \u001b[0m:      aggregate_evaluate: received 2 results and 0 failures\n",
      "\u001b[92mINFO \u001b[0m:      \n",
      "\u001b[92mINFO \u001b[0m:      [ROUND 6]\n",
      "\u001b[92mINFO \u001b[0m:      configure_fit: strategy sampled 2 clients (out of 2)\n"
     ]
    },
    {
     "name": "stdout",
     "output_type": "stream",
     "text": [
      "[Server] Waiting for at least 2 clients to connect...\n",
      "[Server] Minimum clients connected. Starting aggregation...\n",
      "[Server] Securely aggregating model updates for round 5...\n",
      "Round 5: Aggregated Loss: 3.6788\n",
      "[Server] Securely aggregating evaluation results for round 5...\n",
      "[Server] Validation Accuracy after Round 5: 0.8566\n"
     ]
    },
    {
     "name": "stderr",
     "output_type": "stream",
     "text": [
      "\u001b[92mINFO \u001b[0m:      aggregate_fit: received 2 results and 0 failures\n",
      "\u001b[92mINFO \u001b[0m:      configure_evaluate: strategy sampled 2 clients (out of 2)\n",
      "\u001b[92mINFO \u001b[0m:      aggregate_evaluate: received 2 results and 0 failures\n",
      "\u001b[92mINFO \u001b[0m:      \n",
      "\u001b[92mINFO \u001b[0m:      [ROUND 7]\n",
      "\u001b[92mINFO \u001b[0m:      configure_fit: strategy sampled 2 clients (out of 2)\n"
     ]
    },
    {
     "name": "stdout",
     "output_type": "stream",
     "text": [
      "[Server] Waiting for at least 2 clients to connect...\n",
      "[Server] Minimum clients connected. Starting aggregation...\n",
      "[Server] Securely aggregating model updates for round 6...\n",
      "Round 6: Aggregated Loss: 3.6002\n",
      "[Server] Securely aggregating evaluation results for round 6...\n",
      "[Server] Validation Accuracy after Round 6: 0.8618\n"
     ]
    },
    {
     "name": "stderr",
     "output_type": "stream",
     "text": [
      "\u001b[92mINFO \u001b[0m:      aggregate_fit: received 2 results and 0 failures\n",
      "\u001b[92mINFO \u001b[0m:      configure_evaluate: strategy sampled 2 clients (out of 2)\n",
      "\u001b[92mINFO \u001b[0m:      aggregate_evaluate: received 2 results and 0 failures\n",
      "\u001b[92mINFO \u001b[0m:      \n",
      "\u001b[92mINFO \u001b[0m:      [ROUND 8]\n",
      "\u001b[92mINFO \u001b[0m:      configure_fit: strategy sampled 2 clients (out of 2)\n"
     ]
    },
    {
     "name": "stdout",
     "output_type": "stream",
     "text": [
      "[Server] Waiting for at least 2 clients to connect...\n",
      "[Server] Minimum clients connected. Starting aggregation...\n",
      "[Server] Securely aggregating model updates for round 7...\n",
      "Round 7: Aggregated Loss: 3.5091\n",
      "[Server] Securely aggregating evaluation results for round 7...\n",
      "[Server] Validation Accuracy after Round 7: 0.8656\n"
     ]
    },
    {
     "name": "stderr",
     "output_type": "stream",
     "text": [
      "\u001b[92mINFO \u001b[0m:      aggregate_fit: received 2 results and 0 failures\n",
      "\u001b[92mINFO \u001b[0m:      configure_evaluate: strategy sampled 2 clients (out of 2)\n",
      "\u001b[92mINFO \u001b[0m:      aggregate_evaluate: received 2 results and 0 failures\n",
      "\u001b[92mINFO \u001b[0m:      \n",
      "\u001b[92mINFO \u001b[0m:      [ROUND 9]\n",
      "\u001b[92mINFO \u001b[0m:      configure_fit: strategy sampled 2 clients (out of 2)\n"
     ]
    },
    {
     "name": "stdout",
     "output_type": "stream",
     "text": [
      "[Server] Waiting for at least 2 clients to connect...\n",
      "[Server] Minimum clients connected. Starting aggregation...\n",
      "[Server] Securely aggregating model updates for round 8...\n",
      "Round 8: Aggregated Loss: 3.4582\n",
      "[Server] Securely aggregating evaluation results for round 8...\n",
      "[Server] Validation Accuracy after Round 8: 0.8651\n"
     ]
    },
    {
     "name": "stderr",
     "output_type": "stream",
     "text": [
      "\u001b[92mINFO \u001b[0m:      aggregate_fit: received 2 results and 0 failures\n",
      "\u001b[92mINFO \u001b[0m:      configure_evaluate: strategy sampled 2 clients (out of 2)\n",
      "\u001b[92mINFO \u001b[0m:      aggregate_evaluate: received 2 results and 0 failures\n",
      "\u001b[92mINFO \u001b[0m:      \n",
      "\u001b[92mINFO \u001b[0m:      [ROUND 10]\n",
      "\u001b[92mINFO \u001b[0m:      configure_fit: strategy sampled 2 clients (out of 2)\n"
     ]
    },
    {
     "name": "stdout",
     "output_type": "stream",
     "text": [
      "[Server] Waiting for at least 2 clients to connect...\n",
      "[Server] Minimum clients connected. Starting aggregation...\n",
      "[Server] Securely aggregating model updates for round 9...\n",
      "Round 9: Aggregated Loss: 3.4307\n",
      "[Server] Securely aggregating evaluation results for round 9...\n",
      "[Server] Validation Accuracy after Round 9: 0.8708\n"
     ]
    },
    {
     "name": "stderr",
     "output_type": "stream",
     "text": [
      "\u001b[92mINFO \u001b[0m:      aggregate_fit: received 2 results and 0 failures\n",
      "\u001b[92mINFO \u001b[0m:      configure_evaluate: strategy sampled 2 clients (out of 2)\n",
      "\u001b[92mINFO \u001b[0m:      aggregate_evaluate: received 2 results and 0 failures\n"
     ]
    },
    {
     "name": "stdout",
     "output_type": "stream",
     "text": [
      "[Server] Waiting for at least 2 clients to connect...\n",
      "[Server] Minimum clients connected. Starting aggregation...\n",
      "[Server] Securely aggregating model updates for round 10...\n",
      "Round 10: Aggregated Loss: 3.3805\n"
     ]
    },
    {
     "name": "stderr",
     "output_type": "stream",
     "text": [
      "\u001b[92mINFO \u001b[0m:      \n",
      "\u001b[92mINFO \u001b[0m:      [ROUND 11]\n",
      "\u001b[92mINFO \u001b[0m:      configure_fit: strategy sampled 2 clients (out of 2)\n"
     ]
    },
    {
     "name": "stdout",
     "output_type": "stream",
     "text": [
      "[Server] Securely aggregating evaluation results for round 10...\n",
      "[Server] Validation Accuracy after Round 10: 0.8717\n"
     ]
    },
    {
     "name": "stderr",
     "output_type": "stream",
     "text": [
      "\u001b[92mINFO \u001b[0m:      aggregate_fit: received 2 results and 0 failures\n",
      "\u001b[92mINFO \u001b[0m:      configure_evaluate: strategy sampled 2 clients (out of 2)\n",
      "\u001b[92mINFO \u001b[0m:      aggregate_evaluate: received 2 results and 0 failures\n",
      "\u001b[92mINFO \u001b[0m:      \n",
      "\u001b[92mINFO \u001b[0m:      [ROUND 12]\n",
      "\u001b[92mINFO \u001b[0m:      configure_fit: strategy sampled 2 clients (out of 2)\n"
     ]
    },
    {
     "name": "stdout",
     "output_type": "stream",
     "text": [
      "[Server] Waiting for at least 2 clients to connect...\n",
      "[Server] Minimum clients connected. Starting aggregation...\n",
      "[Server] Securely aggregating model updates for round 11...\n",
      "Round 11: Aggregated Loss: 3.3297\n",
      "[Server] Securely aggregating evaluation results for round 11...\n",
      "[Server] Validation Accuracy after Round 11: 0.8693\n"
     ]
    },
    {
     "name": "stderr",
     "output_type": "stream",
     "text": [
      "\u001b[92mINFO \u001b[0m:      aggregate_fit: received 2 results and 0 failures\n",
      "\u001b[92mINFO \u001b[0m:      configure_evaluate: strategy sampled 2 clients (out of 2)\n",
      "\u001b[92mINFO \u001b[0m:      aggregate_evaluate: received 2 results and 0 failures\n",
      "\u001b[92mINFO \u001b[0m:      \n",
      "\u001b[92mINFO \u001b[0m:      [ROUND 13]\n",
      "\u001b[92mINFO \u001b[0m:      configure_fit: strategy sampled 2 clients (out of 2)\n"
     ]
    },
    {
     "name": "stdout",
     "output_type": "stream",
     "text": [
      "[Server] Waiting for at least 2 clients to connect...\n",
      "[Server] Minimum clients connected. Starting aggregation...\n",
      "[Server] Securely aggregating model updates for round 12...\n",
      "Round 12: Aggregated Loss: 3.3153\n",
      "[Server] Securely aggregating evaluation results for round 12...\n",
      "[Server] Validation Accuracy after Round 12: 0.8722\n"
     ]
    },
    {
     "name": "stderr",
     "output_type": "stream",
     "text": [
      "\u001b[92mINFO \u001b[0m:      aggregate_fit: received 2 results and 0 failures\n",
      "\u001b[92mINFO \u001b[0m:      configure_evaluate: strategy sampled 2 clients (out of 2)\n",
      "\u001b[92mINFO \u001b[0m:      aggregate_evaluate: received 2 results and 0 failures\n",
      "\u001b[92mINFO \u001b[0m:      \n",
      "\u001b[92mINFO \u001b[0m:      [ROUND 14]\n",
      "\u001b[92mINFO \u001b[0m:      configure_fit: strategy sampled 2 clients (out of 2)\n"
     ]
    },
    {
     "name": "stdout",
     "output_type": "stream",
     "text": [
      "[Server] Waiting for at least 2 clients to connect...\n",
      "[Server] Minimum clients connected. Starting aggregation...\n",
      "[Server] Securely aggregating model updates for round 13...\n",
      "Round 13: Aggregated Loss: 3.2540\n",
      "[Server] Securely aggregating evaluation results for round 13...\n",
      "[Server] Validation Accuracy after Round 13: 0.8750\n"
     ]
    },
    {
     "name": "stderr",
     "output_type": "stream",
     "text": [
      "\u001b[92mINFO \u001b[0m:      aggregate_fit: received 2 results and 0 failures\n",
      "\u001b[92mINFO \u001b[0m:      configure_evaluate: strategy sampled 2 clients (out of 2)\n",
      "\u001b[92mINFO \u001b[0m:      aggregate_evaluate: received 2 results and 0 failures\n",
      "\u001b[92mINFO \u001b[0m:      \n",
      "\u001b[92mINFO \u001b[0m:      [ROUND 15]\n",
      "\u001b[92mINFO \u001b[0m:      configure_fit: strategy sampled 2 clients (out of 2)\n"
     ]
    },
    {
     "name": "stdout",
     "output_type": "stream",
     "text": [
      "[Server] Waiting for at least 2 clients to connect...\n",
      "[Server] Minimum clients connected. Starting aggregation...\n",
      "[Server] Securely aggregating model updates for round 14...\n",
      "Round 14: Aggregated Loss: 3.1845\n",
      "[Server] Securely aggregating evaluation results for round 14...\n",
      "[Server] Validation Accuracy after Round 14: 0.8774\n"
     ]
    },
    {
     "name": "stderr",
     "output_type": "stream",
     "text": [
      "\u001b[92mINFO \u001b[0m:      aggregate_fit: received 2 results and 0 failures\n",
      "\u001b[92mINFO \u001b[0m:      configure_evaluate: strategy sampled 2 clients (out of 2)\n",
      "\u001b[92mINFO \u001b[0m:      aggregate_evaluate: received 2 results and 0 failures\n",
      "\u001b[92mINFO \u001b[0m:      \n",
      "\u001b[92mINFO \u001b[0m:      [ROUND 16]\n",
      "\u001b[92mINFO \u001b[0m:      configure_fit: strategy sampled 2 clients (out of 2)\n"
     ]
    },
    {
     "name": "stdout",
     "output_type": "stream",
     "text": [
      "[Server] Waiting for at least 2 clients to connect...\n",
      "[Server] Minimum clients connected. Starting aggregation...\n",
      "[Server] Securely aggregating model updates for round 15...\n",
      "Round 15: Aggregated Loss: 3.1400\n",
      "[Server] Securely aggregating evaluation results for round 15...\n",
      "[Server] Validation Accuracy after Round 15: 0.8755\n"
     ]
    },
    {
     "name": "stderr",
     "output_type": "stream",
     "text": [
      "\u001b[92mINFO \u001b[0m:      aggregate_fit: received 2 results and 0 failures\n",
      "\u001b[92mINFO \u001b[0m:      configure_evaluate: strategy sampled 2 clients (out of 2)\n",
      "\u001b[92mINFO \u001b[0m:      aggregate_evaluate: received 2 results and 0 failures\n",
      "\u001b[92mINFO \u001b[0m:      \n",
      "\u001b[92mINFO \u001b[0m:      [ROUND 17]\n",
      "\u001b[92mINFO \u001b[0m:      configure_fit: strategy sampled 2 clients (out of 2)\n"
     ]
    },
    {
     "name": "stdout",
     "output_type": "stream",
     "text": [
      "[Server] Waiting for at least 2 clients to connect...\n",
      "[Server] Minimum clients connected. Starting aggregation...\n",
      "[Server] Securely aggregating model updates for round 16...\n",
      "Round 16: Aggregated Loss: 3.1258\n",
      "[Server] Securely aggregating evaluation results for round 16...\n",
      "[Server] Validation Accuracy after Round 16: 0.8797\n"
     ]
    },
    {
     "name": "stderr",
     "output_type": "stream",
     "text": [
      "\u001b[92mINFO \u001b[0m:      aggregate_fit: received 2 results and 0 failures\n",
      "\u001b[92mINFO \u001b[0m:      configure_evaluate: strategy sampled 2 clients (out of 2)\n",
      "\u001b[92mINFO \u001b[0m:      aggregate_evaluate: received 2 results and 0 failures\n",
      "\u001b[92mINFO \u001b[0m:      \n",
      "\u001b[92mINFO \u001b[0m:      [ROUND 18]\n",
      "\u001b[92mINFO \u001b[0m:      configure_fit: strategy sampled 2 clients (out of 2)\n"
     ]
    },
    {
     "name": "stdout",
     "output_type": "stream",
     "text": [
      "[Server] Waiting for at least 2 clients to connect...\n",
      "[Server] Minimum clients connected. Starting aggregation...\n",
      "[Server] Securely aggregating model updates for round 17...\n",
      "Round 17: Aggregated Loss: 3.1059\n",
      "[Server] Securely aggregating evaluation results for round 17...\n",
      "[Server] Validation Accuracy after Round 17: 0.8764\n"
     ]
    },
    {
     "name": "stderr",
     "output_type": "stream",
     "text": [
      "\u001b[92mINFO \u001b[0m:      aggregate_fit: received 2 results and 0 failures\n",
      "\u001b[92mINFO \u001b[0m:      configure_evaluate: strategy sampled 2 clients (out of 2)\n",
      "\u001b[92mINFO \u001b[0m:      aggregate_evaluate: received 2 results and 0 failures\n",
      "\u001b[92mINFO \u001b[0m:      \n",
      "\u001b[92mINFO \u001b[0m:      [ROUND 19]\n",
      "\u001b[92mINFO \u001b[0m:      configure_fit: strategy sampled 2 clients (out of 2)\n"
     ]
    },
    {
     "name": "stdout",
     "output_type": "stream",
     "text": [
      "[Server] Waiting for at least 2 clients to connect...\n",
      "[Server] Minimum clients connected. Starting aggregation...\n",
      "[Server] Securely aggregating model updates for round 18...\n",
      "Round 18: Aggregated Loss: 3.0409\n",
      "[Server] Securely aggregating evaluation results for round 18...\n",
      "[Server] Validation Accuracy after Round 18: 0.8783\n"
     ]
    },
    {
     "name": "stderr",
     "output_type": "stream",
     "text": [
      "\u001b[92mINFO \u001b[0m:      aggregate_fit: received 2 results and 0 failures\n",
      "\u001b[92mINFO \u001b[0m:      configure_evaluate: strategy sampled 2 clients (out of 2)\n",
      "\u001b[92mINFO \u001b[0m:      aggregate_evaluate: received 2 results and 0 failures\n",
      "\u001b[92mINFO \u001b[0m:      \n",
      "\u001b[92mINFO \u001b[0m:      [ROUND 20]\n"
     ]
    },
    {
     "name": "stdout",
     "output_type": "stream",
     "text": [
      "[Server] Waiting for at least 2 clients to connect...\n",
      "[Server] Minimum clients connected. Starting aggregation...\n",
      "[Server] Securely aggregating model updates for round 19...\n",
      "Round 19: Aggregated Loss: 2.9969\n",
      "[Server] Securely aggregating evaluation results for round 19...\n",
      "[Server] Validation Accuracy after Round 19: 0.8821\n"
     ]
    },
    {
     "name": "stderr",
     "output_type": "stream",
     "text": [
      "\u001b[92mINFO \u001b[0m:      configure_fit: strategy sampled 2 clients (out of 2)\n",
      "\u001b[92mINFO \u001b[0m:      aggregate_fit: received 2 results and 0 failures\n",
      "\u001b[92mINFO \u001b[0m:      configure_evaluate: strategy sampled 2 clients (out of 2)\n",
      "\u001b[92mINFO \u001b[0m:      aggregate_evaluate: received 2 results and 0 failures\n",
      "\u001b[92mINFO \u001b[0m:      \n",
      "\u001b[92mINFO \u001b[0m:      [SUMMARY]\n",
      "\u001b[92mINFO \u001b[0m:      Run finished 20 round(s) in 121.31s\n",
      "\u001b[92mINFO \u001b[0m:      \tHistory (loss, distributed):\n",
      "\u001b[92mINFO \u001b[0m:      \t\tround 1: 0.0\n",
      "\u001b[92mINFO \u001b[0m:      \t\tround 2: 0.0\n",
      "\u001b[92mINFO \u001b[0m:      \t\tround 3: 0.0\n",
      "\u001b[92mINFO \u001b[0m:      \t\tround 4: 0.0\n",
      "\u001b[92mINFO \u001b[0m:      \t\tround 5: 0.0\n",
      "\u001b[92mINFO \u001b[0m:      \t\tround 6: 0.0\n",
      "\u001b[92mINFO \u001b[0m:      \t\tround 7: 0.0\n",
      "\u001b[92mINFO \u001b[0m:      \t\tround 8: 0.0\n",
      "\u001b[92mINFO \u001b[0m:      \t\tround 9: 0.0\n",
      "\u001b[92mINFO \u001b[0m:      \t\tround 10: 0.0\n",
      "\u001b[92mINFO \u001b[0m:      \t\tround 11: 0.0\n",
      "\u001b[92mINFO \u001b[0m:      \t\tround 12: 0.0\n",
      "\u001b[92mINFO \u001b[0m:      \t\tround 13: 0.0\n",
      "\u001b[92mINFO \u001b[0m:      \t\tround 14: 0.0\n"
     ]
    },
    {
     "name": "stdout",
     "output_type": "stream",
     "text": [
      "[Server] Waiting for at least 2 clients to connect...\n",
      "[Server] Minimum clients connected. Starting aggregation...\n",
      "[Server] Securely aggregating model updates for round 20...\n",
      "Round 20: Aggregated Loss: 2.9620\n",
      "[Server] Securely aggregating evaluation results for round 20...\n",
      "[Server] Validation Accuracy after Round 20: 0.8844\n"
     ]
    },
    {
     "name": "stderr",
     "output_type": "stream",
     "text": [
      "\u001b[92mINFO \u001b[0m:      \t\tround 15: 0.0\n",
      "\u001b[92mINFO \u001b[0m:      \t\tround 16: 0.0\n",
      "\u001b[92mINFO \u001b[0m:      \t\tround 17: 0.0\n",
      "\u001b[92mINFO \u001b[0m:      \t\tround 18: 0.0\n",
      "\u001b[92mINFO \u001b[0m:      \t\tround 19: 0.0\n",
      "\u001b[92mINFO \u001b[0m:      \t\tround 20: 0.0\n",
      "\u001b[92mINFO \u001b[0m:      \n"
     ]
    },
    {
     "name": "stdout",
     "output_type": "stream",
     "text": [
      "[Server] Training completed. Running final predictions...\n",
      "[Server] Final Predictions: [[0.4990117 ]\n",
      " [0.50065994]\n",
      " [0.49773714]\n",
      " [0.4981152 ]\n",
      " [0.49538413]\n",
      " [0.49995708]\n",
      " [0.49782512]\n",
      " [0.49886596]\n",
      " [0.4939555 ]\n",
      " [0.49578154]]\n"
     ]
    }
   ],
   "source": [
    "import torch\n",
    "import torch.nn as nn\n",
    "import flwr as fl\n",
    "import numpy as np\n",
    "\n",
    "# Define Global Model with Updated Architecture\n",
    "class GlobalModel(nn.Module):\n",
    "    def __init__(self, input_size):\n",
    "        super(GlobalModel, self).__init__()\n",
    "        self.layers = nn.Sequential(\n",
    "            nn.Linear(input_size, 128),\n",
    "            nn.ReLU(),\n",
    "            nn.Dropout(0.3),\n",
    "            nn.Linear(128, 64),\n",
    "            nn.ReLU(),\n",
    "            nn.Dropout(0.3),\n",
    "            nn.Linear(64, 1),\n",
    "            nn.Sigmoid()\n",
    "        )\n",
    "\n",
    "    def forward(self, x):\n",
    "        return self.layers(x)\n",
    "\n",
    "\n",
    "input_size = 16  \n",
    "global_model = GlobalModel(input_size)\n",
    "\n",
    "# Secure Aggregation: Wait until at least 2 clients are connected\n",
    "class CustomFedAvg(fl.server.strategy.FedAvg):\n",
    "    def __init__(self):\n",
    "        super().__init__()\n",
    "        self.connected_clients = 0\n",
    "\n",
    "    def wait_for_clients(self):\n",
    "        print(\"[Server] Waiting for at least 2 clients to connect...\")\n",
    "        while self.connected_clients < 2:\n",
    "            pass  # Hold until at least 2 clients join\n",
    "        print(\"[Server] Minimum clients connected. Starting aggregation...\")\n",
    "\n",
    "    def aggregate_fit(self, rnd, results, failures):\n",
    "        self.connected_clients = len(results)  # Update connected clients count\n",
    "        self.wait_for_clients()\n",
    "        print(f\"[Server] Securely aggregating model updates for round {rnd}...\")\n",
    "        aggregated_result = super().aggregate_fit(rnd, results, failures)\n",
    "        \n",
    "        # Log Aggregated Loss\n",
    "        loss_values = [res.metrics[\"loss\"] for _, res in results if \"loss\" in res.metrics]\n",
    "        avg_loss = np.mean(loss_values) if loss_values else 0.0\n",
    "        print(f\"Round {rnd}: Aggregated Loss: {avg_loss:.4f}\")\n",
    "        return aggregated_result\n",
    "\n",
    "    def aggregate_evaluate(self, rnd, results, failures):\n",
    "        print(f\"[Server] Securely aggregating evaluation results for round {rnd}...\")\n",
    "        aggregated_result = super().aggregate_evaluate(rnd, results, failures)\n",
    "        \n",
    "        # Compute and Log Validation Accuracy\n",
    "        accuracies = [res.metrics['accuracy'] for _, res in results if \"accuracy\" in res.metrics]\n",
    "        avg_accuracy = np.mean(accuracies) if accuracies else 0.0\n",
    "        print(f\"[Server] Validation Accuracy after Round {rnd}: {avg_accuracy:.4f}\")\n",
    "        return aggregated_result\n",
    "\n",
    "# Start Flower Server\n",
    "print(\"[Server] Starting Federated Learning with Secure Aggregation...\")\n",
    "fl.server.start_server(\n",
    "    server_address=\"localhost:8080\",\n",
    "    config=fl.server.ServerConfig(num_rounds=20),\n",
    "    strategy=CustomFedAvg()\n",
    ")\n",
    "\n",
    "# Perform Prediction after Training\n",
    "print(\"[Server] Training completed. Running final predictions...\")\n",
    "\n",
    "def predict(model, X_test):\n",
    "    model.eval()\n",
    "    with torch.no_grad():\n",
    "        predictions = model(torch.tensor(X_test, dtype=torch.float32))\n",
    "    return predictions.numpy()\n",
    "\n",
    "# Placeholder for test data (Replace with actual test dataset)\n",
    "X_test = np.random.rand(10, input_size)  # Example test data\n",
    "predictions = predict(global_model, X_test)\n",
    "print(\"[Server] Final Predictions:\", predictions)\n"
   ]
  },
  {
   "cell_type": "code",
   "execution_count": null,
   "metadata": {},
   "outputs": [],
   "source": []
  }
 ],
 "metadata": {
  "kernelspec": {
   "display_name": ".venv",
   "language": "python",
   "name": "python3"
  },
  "language_info": {
   "codemirror_mode": {
    "name": "ipython",
    "version": 3
   },
   "file_extension": ".py",
   "mimetype": "text/x-python",
   "name": "python",
   "nbconvert_exporter": "python",
   "pygments_lexer": "ipython3",
   "version": "3.10.11"
  }
 },
 "nbformat": 4,
 "nbformat_minor": 2
}
