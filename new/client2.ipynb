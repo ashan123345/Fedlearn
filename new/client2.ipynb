{
 "cells": [
  {
   "cell_type": "code",
   "execution_count": 3,
   "metadata": {},
   "outputs": [
    {
     "name": "stdout",
     "output_type": "stream",
     "text": [
      "✅ Client device: cuda\n"
     ]
    },
    {
     "name": "stderr",
     "output_type": "stream",
     "text": [
      "\u001b[93mWARNING \u001b[0m:   DEPRECATED FEATURE: flwr.client.start_client() is deprecated.\n",
      "\tInstead, use the `flower-supernode` CLI command to start a SuperNode as shown below:\n",
      "\n",
      "\t\t$ flower-supernode --insecure --superlink='<IP>:<PORT>'\n",
      "\n",
      "\tTo view all available options, run:\n",
      "\n",
      "\t\t$ flower-supernode --help\n",
      "\n",
      "\tUsing `start_client()` is deprecated.\n",
      "\n",
      "            This is a deprecated feature. It will be removed\n",
      "            entirely in future versions of Flower.\n",
      "        \n",
      "\u001b[92mINFO \u001b[0m:      \n",
      "\u001b[92mINFO \u001b[0m:      Received: get_parameters message bc2ddb76-b8fc-48dc-a26a-8d54e6e7eb92\n",
      "\u001b[92mINFO \u001b[0m:      Sent reply\n"
     ]
    },
    {
     "name": "stdout",
     "output_type": "stream",
     "text": [
      "🚀 Client: Connecting to the global server...\n"
     ]
    },
    {
     "name": "stderr",
     "output_type": "stream",
     "text": [
      "\u001b[92mINFO \u001b[0m:      \n",
      "\u001b[92mINFO \u001b[0m:      Received: train message d8b777ec-0892-4f2d-862e-e7c93f9ec936\n"
     ]
    },
    {
     "name": "stdout",
     "output_type": "stream",
     "text": [
      "✅ Client: Parameters received & updated.\n"
     ]
    },
    {
     "name": "stderr",
     "output_type": "stream",
     "text": [
      "\u001b[92mINFO \u001b[0m:      Sent reply\n",
      "\u001b[92mINFO \u001b[0m:      \n",
      "\u001b[92mINFO \u001b[0m:      Received: evaluate message 43c76b08-8f51-4ae4-8d23-16fc0a8fdc33\n",
      "\u001b[92mINFO \u001b[0m:      Sent reply\n"
     ]
    },
    {
     "name": "stdout",
     "output_type": "stream",
     "text": [
      "📌 Client: Training Completed | Accuracy: 0.8332 | Loss: 4.4305\n",
      "✅ Client: Parameters received & updated.\n",
      "📌 Client: Validation Accuracy: 0.8368\n"
     ]
    },
    {
     "name": "stderr",
     "output_type": "stream",
     "text": [
      "\u001b[92mINFO \u001b[0m:      \n",
      "\u001b[92mINFO \u001b[0m:      Received: train message 220b709d-edc4-4aee-8855-1aff4bc4708d\n"
     ]
    },
    {
     "name": "stdout",
     "output_type": "stream",
     "text": [
      "✅ Client: Parameters received & updated.\n"
     ]
    },
    {
     "name": "stderr",
     "output_type": "stream",
     "text": [
      "\u001b[92mINFO \u001b[0m:      Sent reply\n",
      "\u001b[92mINFO \u001b[0m:      \n",
      "\u001b[92mINFO \u001b[0m:      Received: evaluate message 531fdcec-3d33-4dc2-be49-7abbf559e78d\n",
      "\u001b[92mINFO \u001b[0m:      Sent reply\n",
      "\u001b[92mINFO \u001b[0m:      \n",
      "\u001b[92mINFO \u001b[0m:      Received: train message 5f49a55c-33a1-4f8e-82f8-492f1bb43f40\n"
     ]
    },
    {
     "name": "stdout",
     "output_type": "stream",
     "text": [
      "📌 Client: Training Completed | Accuracy: 0.8389 | Loss: 4.0713\n",
      "✅ Client: Parameters received & updated.\n",
      "📌 Client: Validation Accuracy: 0.8396\n",
      "✅ Client: Parameters received & updated.\n"
     ]
    },
    {
     "name": "stderr",
     "output_type": "stream",
     "text": [
      "\u001b[92mINFO \u001b[0m:      Sent reply\n",
      "\u001b[92mINFO \u001b[0m:      \n",
      "\u001b[92mINFO \u001b[0m:      Received: evaluate message e64c3a6a-799d-4e30-9b00-f3aeffe510bc\n",
      "\u001b[92mINFO \u001b[0m:      Sent reply\n",
      "\u001b[92mINFO \u001b[0m:      \n",
      "\u001b[92mINFO \u001b[0m:      Received: train message 6e547b00-1f4a-4d70-8961-bd13823e34d2\n"
     ]
    },
    {
     "name": "stdout",
     "output_type": "stream",
     "text": [
      "📌 Client: Training Completed | Accuracy: 0.8429 | Loss: 3.9527\n",
      "✅ Client: Parameters received & updated.\n",
      "📌 Client: Validation Accuracy: 0.8396\n",
      "✅ Client: Parameters received & updated.\n"
     ]
    },
    {
     "name": "stderr",
     "output_type": "stream",
     "text": [
      "\u001b[92mINFO \u001b[0m:      Sent reply\n",
      "\u001b[92mINFO \u001b[0m:      \n",
      "\u001b[92mINFO \u001b[0m:      Received: evaluate message 595b743c-dc52-48c2-af04-47bc5a2c29b6\n",
      "\u001b[92mINFO \u001b[0m:      Sent reply\n"
     ]
    },
    {
     "name": "stdout",
     "output_type": "stream",
     "text": [
      "📌 Client: Training Completed | Accuracy: 0.8430 | Loss: 3.9090\n",
      "✅ Client: Parameters received & updated.\n",
      "📌 Client: Validation Accuracy: 0.8415\n"
     ]
    },
    {
     "name": "stderr",
     "output_type": "stream",
     "text": [
      "\u001b[92mINFO \u001b[0m:      \n",
      "\u001b[92mINFO \u001b[0m:      Received: train message ad385271-75cd-43d9-aead-dee30f71f32c\n"
     ]
    },
    {
     "name": "stdout",
     "output_type": "stream",
     "text": [
      "✅ Client: Parameters received & updated.\n"
     ]
    },
    {
     "name": "stderr",
     "output_type": "stream",
     "text": [
      "\u001b[92mINFO \u001b[0m:      Sent reply\n",
      "\u001b[92mINFO \u001b[0m:      \n",
      "\u001b[92mINFO \u001b[0m:      Received: evaluate message eba49a11-2e49-4f0e-b7c2-f41a2e105aa5\n",
      "\u001b[92mINFO \u001b[0m:      Sent reply\n"
     ]
    },
    {
     "name": "stdout",
     "output_type": "stream",
     "text": [
      "📌 Client: Training Completed | Accuracy: 0.8458 | Loss: 3.9042\n",
      "✅ Client: Parameters received & updated.\n",
      "📌 Client: Validation Accuracy: 0.8434\n"
     ]
    },
    {
     "name": "stderr",
     "output_type": "stream",
     "text": [
      "\u001b[92mINFO \u001b[0m:      \n",
      "\u001b[92mINFO \u001b[0m:      Received: train message 569ed531-ffee-46f3-86ee-6512adea6797\n"
     ]
    },
    {
     "name": "stdout",
     "output_type": "stream",
     "text": [
      "✅ Client: Parameters received & updated.\n"
     ]
    },
    {
     "name": "stderr",
     "output_type": "stream",
     "text": [
      "\u001b[92mINFO \u001b[0m:      Sent reply\n",
      "\u001b[92mINFO \u001b[0m:      \n",
      "\u001b[92mINFO \u001b[0m:      Received: evaluate message 3b16874f-673e-48f0-8183-6c08d51b3285\n",
      "\u001b[92mINFO \u001b[0m:      Sent reply\n",
      "\u001b[92mINFO \u001b[0m:      \n",
      "\u001b[92mINFO \u001b[0m:      Received: train message 6b4124ac-eedd-420c-91eb-4163030be67e\n"
     ]
    },
    {
     "name": "stdout",
     "output_type": "stream",
     "text": [
      "📌 Client: Training Completed | Accuracy: 0.8485 | Loss: 3.8111\n",
      "✅ Client: Parameters received & updated.\n",
      "📌 Client: Validation Accuracy: 0.8472\n",
      "✅ Client: Parameters received & updated.\n"
     ]
    },
    {
     "name": "stderr",
     "output_type": "stream",
     "text": [
      "\u001b[92mINFO \u001b[0m:      Sent reply\n",
      "\u001b[92mINFO \u001b[0m:      \n",
      "\u001b[92mINFO \u001b[0m:      Received: evaluate message 23b98ba6-1b66-4a53-872b-ce66e46adcbf\n",
      "\u001b[92mINFO \u001b[0m:      Sent reply\n"
     ]
    },
    {
     "name": "stdout",
     "output_type": "stream",
     "text": [
      "📌 Client: Training Completed | Accuracy: 0.8509 | Loss: 3.6866\n",
      "✅ Client: Parameters received & updated.\n",
      "📌 Client: Validation Accuracy: 0.8481\n"
     ]
    },
    {
     "name": "stderr",
     "output_type": "stream",
     "text": [
      "\u001b[92mINFO \u001b[0m:      \n",
      "\u001b[92mINFO \u001b[0m:      Received: train message b31bc78b-a4a2-4b96-b5a3-932ffd452aab\n"
     ]
    },
    {
     "name": "stdout",
     "output_type": "stream",
     "text": [
      "✅ Client: Parameters received & updated.\n"
     ]
    },
    {
     "name": "stderr",
     "output_type": "stream",
     "text": [
      "\u001b[92mINFO \u001b[0m:      Sent reply\n",
      "\u001b[92mINFO \u001b[0m:      \n",
      "\u001b[92mINFO \u001b[0m:      Received: evaluate message 4bb41aca-ca4c-4064-b793-fc51e55b9b9a\n",
      "\u001b[92mINFO \u001b[0m:      Sent reply\n",
      "\u001b[92mINFO \u001b[0m:      \n",
      "\u001b[92mINFO \u001b[0m:      Received: train message 8d41c84f-c87e-49be-bc0b-532b2d41462f\n"
     ]
    },
    {
     "name": "stdout",
     "output_type": "stream",
     "text": [
      "📌 Client: Training Completed | Accuracy: 0.8526 | Loss: 3.6626\n",
      "✅ Client: Parameters received & updated.\n",
      "📌 Client: Validation Accuracy: 0.8481\n",
      "✅ Client: Parameters received & updated.\n"
     ]
    },
    {
     "name": "stderr",
     "output_type": "stream",
     "text": [
      "\u001b[92mINFO \u001b[0m:      Sent reply\n",
      "\u001b[92mINFO \u001b[0m:      \n",
      "\u001b[92mINFO \u001b[0m:      Received: evaluate message 405abfbc-1ada-48e2-9efa-3d0d941616e6\n"
     ]
    },
    {
     "name": "stdout",
     "output_type": "stream",
     "text": [
      "📌 Client: Training Completed | Accuracy: 0.8528 | Loss: 3.6116\n",
      "✅ Client: Parameters received & updated.\n"
     ]
    },
    {
     "name": "stderr",
     "output_type": "stream",
     "text": [
      "\u001b[92mINFO \u001b[0m:      Sent reply\n",
      "\u001b[92mINFO \u001b[0m:      \n",
      "\u001b[92mINFO \u001b[0m:      Received: train message 24a86963-8732-44e2-b1db-79d1791864da\n"
     ]
    },
    {
     "name": "stdout",
     "output_type": "stream",
     "text": [
      "📌 Client: Validation Accuracy: 0.8538\n",
      "✅ Client: Parameters received & updated.\n"
     ]
    },
    {
     "name": "stderr",
     "output_type": "stream",
     "text": [
      "\u001b[92mINFO \u001b[0m:      Sent reply\n",
      "\u001b[92mINFO \u001b[0m:      \n",
      "\u001b[92mINFO \u001b[0m:      Received: evaluate message a88d4d98-ac0e-4899-8582-48559ca40b8a\n"
     ]
    },
    {
     "name": "stdout",
     "output_type": "stream",
     "text": [
      "📌 Client: Training Completed | Accuracy: 0.8548 | Loss: 3.6260\n",
      "✅ Client: Parameters received & updated.\n"
     ]
    },
    {
     "name": "stderr",
     "output_type": "stream",
     "text": [
      "\u001b[92mINFO \u001b[0m:      Sent reply\n",
      "\u001b[92mINFO \u001b[0m:      \n",
      "\u001b[92mINFO \u001b[0m:      Received: train message c1c49418-1b96-43dc-b0e7-ab39d51b58ba\n"
     ]
    },
    {
     "name": "stdout",
     "output_type": "stream",
     "text": [
      "📌 Client: Validation Accuracy: 0.8547\n",
      "✅ Client: Parameters received & updated.\n"
     ]
    },
    {
     "name": "stderr",
     "output_type": "stream",
     "text": [
      "\u001b[92mINFO \u001b[0m:      Sent reply\n",
      "\u001b[92mINFO \u001b[0m:      \n",
      "\u001b[92mINFO \u001b[0m:      Received: evaluate message 6a0537d0-2dbd-4b65-b5ed-73cc2af37344\n",
      "\u001b[92mINFO \u001b[0m:      Sent reply\n",
      "\u001b[92mINFO \u001b[0m:      \n",
      "\u001b[92mINFO \u001b[0m:      Received: train message 29fdddf7-ad51-4551-ab3a-588495b22cdf\n"
     ]
    },
    {
     "name": "stdout",
     "output_type": "stream",
     "text": [
      "📌 Client: Training Completed | Accuracy: 0.8564 | Loss: 3.5593\n",
      "✅ Client: Parameters received & updated.\n",
      "📌 Client: Validation Accuracy: 0.8538\n",
      "✅ Client: Parameters received & updated.\n"
     ]
    },
    {
     "name": "stderr",
     "output_type": "stream",
     "text": [
      "\u001b[92mINFO \u001b[0m:      Sent reply\n",
      "\u001b[92mINFO \u001b[0m:      \n",
      "\u001b[92mINFO \u001b[0m:      Received: evaluate message 81ddca34-64f5-4874-85a9-1298bec89147\n",
      "\u001b[92mINFO \u001b[0m:      Sent reply\n",
      "\u001b[92mINFO \u001b[0m:      \n",
      "\u001b[92mINFO \u001b[0m:      Received: train message 524d4413-20b7-4e6e-9d0c-6f9b497d2801\n"
     ]
    },
    {
     "name": "stdout",
     "output_type": "stream",
     "text": [
      "📌 Client: Training Completed | Accuracy: 0.8561 | Loss: 3.5327\n",
      "✅ Client: Parameters received & updated.\n",
      "📌 Client: Validation Accuracy: 0.8547\n",
      "✅ Client: Parameters received & updated.\n"
     ]
    },
    {
     "name": "stderr",
     "output_type": "stream",
     "text": [
      "\u001b[92mINFO \u001b[0m:      Sent reply\n",
      "\u001b[92mINFO \u001b[0m:      \n",
      "\u001b[92mINFO \u001b[0m:      Received: evaluate message 28a7547a-96cb-4bd0-9cbc-3f77e4f780af\n",
      "\u001b[92mINFO \u001b[0m:      Sent reply\n"
     ]
    },
    {
     "name": "stdout",
     "output_type": "stream",
     "text": [
      "📌 Client: Training Completed | Accuracy: 0.8586 | Loss: 3.4513\n",
      "✅ Client: Parameters received & updated.\n",
      "📌 Client: Validation Accuracy: 0.8585\n"
     ]
    },
    {
     "name": "stderr",
     "output_type": "stream",
     "text": [
      "\u001b[92mINFO \u001b[0m:      \n",
      "\u001b[92mINFO \u001b[0m:      Received: train message 382d1982-c360-452a-b4b5-e8a267c7a841\n"
     ]
    },
    {
     "name": "stdout",
     "output_type": "stream",
     "text": [
      "✅ Client: Parameters received & updated.\n"
     ]
    },
    {
     "name": "stderr",
     "output_type": "stream",
     "text": [
      "\u001b[92mINFO \u001b[0m:      Sent reply\n",
      "\u001b[92mINFO \u001b[0m:      \n",
      "\u001b[92mINFO \u001b[0m:      Received: evaluate message 6b957b5a-e6ae-4807-8ee4-d875505c700c\n",
      "\u001b[92mINFO \u001b[0m:      Sent reply\n",
      "\u001b[92mINFO \u001b[0m:      \n",
      "\u001b[92mINFO \u001b[0m:      Received: train message 672ea99f-035a-4f3f-9f3b-f30c6993887a\n"
     ]
    },
    {
     "name": "stdout",
     "output_type": "stream",
     "text": [
      "📌 Client: Training Completed | Accuracy: 0.8623 | Loss: 3.3920\n",
      "✅ Client: Parameters received & updated.\n",
      "📌 Client: Validation Accuracy: 0.8613\n",
      "✅ Client: Parameters received & updated.\n"
     ]
    },
    {
     "name": "stderr",
     "output_type": "stream",
     "text": [
      "\u001b[92mINFO \u001b[0m:      Sent reply\n",
      "\u001b[92mINFO \u001b[0m:      \n",
      "\u001b[92mINFO \u001b[0m:      Received: evaluate message c46fc4af-62f2-4323-8e73-570d935de33a\n",
      "\u001b[92mINFO \u001b[0m:      Sent reply\n",
      "\u001b[92mINFO \u001b[0m:      \n",
      "\u001b[92mINFO \u001b[0m:      Received: train message 1d49812d-f6b3-47de-9a16-2f5a958b4a10\n"
     ]
    },
    {
     "name": "stdout",
     "output_type": "stream",
     "text": [
      "📌 Client: Training Completed | Accuracy: 0.8630 | Loss: 3.3241\n",
      "✅ Client: Parameters received & updated.\n",
      "📌 Client: Validation Accuracy: 0.8575\n",
      "✅ Client: Parameters received & updated.\n"
     ]
    },
    {
     "name": "stderr",
     "output_type": "stream",
     "text": [
      "\u001b[92mINFO \u001b[0m:      Sent reply\n",
      "\u001b[92mINFO \u001b[0m:      \n",
      "\u001b[92mINFO \u001b[0m:      Received: evaluate message 74e7a88e-a696-4545-93c7-d17a054f3c2e\n",
      "\u001b[92mINFO \u001b[0m:      Sent reply\n"
     ]
    },
    {
     "name": "stdout",
     "output_type": "stream",
     "text": [
      "📌 Client: Training Completed | Accuracy: 0.8651 | Loss: 3.3391\n",
      "✅ Client: Parameters received & updated.\n",
      "📌 Client: Validation Accuracy: 0.8679\n"
     ]
    },
    {
     "name": "stderr",
     "output_type": "stream",
     "text": [
      "\u001b[92mINFO \u001b[0m:      \n",
      "\u001b[92mINFO \u001b[0m:      Received: train message 186e42d1-455f-4bf4-9054-af4a64a846fc\n"
     ]
    },
    {
     "name": "stdout",
     "output_type": "stream",
     "text": [
      "✅ Client: Parameters received & updated.\n"
     ]
    },
    {
     "name": "stderr",
     "output_type": "stream",
     "text": [
      "\u001b[92mINFO \u001b[0m:      Sent reply\n",
      "\u001b[92mINFO \u001b[0m:      \n",
      "\u001b[92mINFO \u001b[0m:      Received: evaluate message 69fe2cbd-065d-4f7a-b6ab-268e06d013bb\n",
      "\u001b[92mINFO \u001b[0m:      Sent reply\n",
      "\u001b[92mINFO \u001b[0m:      \n",
      "\u001b[92mINFO \u001b[0m:      Received: train message 15ea650b-40ec-4543-a026-5a8090b2d515\n"
     ]
    },
    {
     "name": "stdout",
     "output_type": "stream",
     "text": [
      "📌 Client: Training Completed | Accuracy: 0.8675 | Loss: 3.3250\n",
      "✅ Client: Parameters received & updated.\n",
      "📌 Client: Validation Accuracy: 0.8632\n",
      "✅ Client: Parameters received & updated.\n"
     ]
    },
    {
     "name": "stderr",
     "output_type": "stream",
     "text": [
      "\u001b[92mINFO \u001b[0m:      Sent reply\n",
      "\u001b[92mINFO \u001b[0m:      \n",
      "\u001b[92mINFO \u001b[0m:      Received: evaluate message 06cd765a-9d81-44d0-9fc4-610cfeb21556\n"
     ]
    },
    {
     "name": "stdout",
     "output_type": "stream",
     "text": [
      "📌 Client: Training Completed | Accuracy: 0.8676 | Loss: 3.2341\n",
      "✅ Client: Parameters received & updated.\n"
     ]
    },
    {
     "name": "stderr",
     "output_type": "stream",
     "text": [
      "\u001b[92mINFO \u001b[0m:      Sent reply\n",
      "\u001b[92mINFO \u001b[0m:      \n",
      "\u001b[92mINFO \u001b[0m:      Received: train message 41007174-2437-4861-a7af-63a2dd1f97a7\n"
     ]
    },
    {
     "name": "stdout",
     "output_type": "stream",
     "text": [
      "📌 Client: Validation Accuracy: 0.8623\n",
      "✅ Client: Parameters received & updated.\n"
     ]
    },
    {
     "name": "stderr",
     "output_type": "stream",
     "text": [
      "\u001b[92mINFO \u001b[0m:      Sent reply\n",
      "\u001b[92mINFO \u001b[0m:      \n",
      "\u001b[92mINFO \u001b[0m:      Received: evaluate message 411ce7ed-8ccb-480b-ba3c-076f9661a2de\n",
      "\u001b[92mINFO \u001b[0m:      Sent reply\n"
     ]
    },
    {
     "name": "stdout",
     "output_type": "stream",
     "text": [
      "📌 Client: Training Completed | Accuracy: 0.8692 | Loss: 3.2408\n",
      "✅ Client: Parameters received & updated.\n",
      "📌 Client: Validation Accuracy: 0.8670\n"
     ]
    },
    {
     "name": "stderr",
     "output_type": "stream",
     "text": [
      "\u001b[92mINFO \u001b[0m:      \n",
      "\u001b[92mINFO \u001b[0m:      Received: train message db41524e-5619-47dd-be36-90751bcc46fd\n"
     ]
    },
    {
     "name": "stdout",
     "output_type": "stream",
     "text": [
      "✅ Client: Parameters received & updated.\n"
     ]
    },
    {
     "name": "stderr",
     "output_type": "stream",
     "text": [
      "\u001b[92mINFO \u001b[0m:      Sent reply\n",
      "\u001b[92mINFO \u001b[0m:      \n",
      "\u001b[92mINFO \u001b[0m:      Received: evaluate message a00fc825-5e76-4277-8ef2-abd223a41c17\n",
      "\u001b[92mINFO \u001b[0m:      Sent reply\n"
     ]
    },
    {
     "name": "stdout",
     "output_type": "stream",
     "text": [
      "📌 Client: Training Completed | Accuracy: 0.8707 | Loss: 3.1564\n",
      "✅ Client: Parameters received & updated.\n",
      "📌 Client: Validation Accuracy: 0.8698\n"
     ]
    },
    {
     "name": "stderr",
     "output_type": "stream",
     "text": [
      "\u001b[92mINFO \u001b[0m:      \n",
      "\u001b[92mINFO \u001b[0m:      Received: reconnect message 53521896-0163-4cf3-9332-211c70c7792c\n",
      "\u001b[92mINFO \u001b[0m:      Disconnect and shut down\n"
     ]
    }
   ],
   "source": [
    "import torch\n",
    "import torch.nn as nn\n",
    "import flwr as fl\n",
    "import numpy as np\n",
    "import pandas as pd\n",
    "from sklearn.preprocessing import StandardScaler\n",
    "from torch.optim.lr_scheduler import StepLR\n",
    "from torch.utils.data import TensorDataset, DataLoader\n",
    "import torch.optim as optim\n",
    "\n",
    "\n",
    "device = torch.device(\"cuda\" if torch.cuda.is_available() else \"cpu\")\n",
    "print(f\"✅ Client device: {device}\")\n",
    "\n",
    "file_path = \"framingham_part1.csv\"\n",
    "data = pd.read_csv(file_path)\n",
    "\n",
    "\n",
    "scaler = StandardScaler()\n",
    "X_client = scaler.fit_transform(data.drop(columns=['TenYearCHD']).values)\n",
    "y_client = data['TenYearCHD'].values\n",
    "\n",
    "\n",
    "def add_noise(data, noise_level=0.01):\n",
    "    noise = np.random.normal(0, noise_level, data.shape)\n",
    "    return data + noise\n",
    "\n",
    "X_client = add_noise(X_client, noise_level=0.01)\n",
    "\n",
    "\n",
    "train_dataset = TensorDataset(torch.tensor(X_client, dtype=torch.float32).to(device),\n",
    "                              torch.tensor(y_client, dtype=torch.float32).to(device))\n",
    "train_loader = DataLoader(train_dataset, batch_size=32, shuffle=True)\n",
    "\n",
    "# ✅ Define Local Model with Improved Generalization\n",
    "class LocalModel(nn.Module):\n",
    "    def __init__(self, input_size):\n",
    "        super(LocalModel, self).__init__()\n",
    "        self.layers = nn.Sequential(\n",
    "            nn.Linear(input_size, 128),\n",
    "            nn.ReLU(),\n",
    "            nn.Dropout(0.3),\n",
    "            nn.Linear(128, 64),\n",
    "            nn.ReLU(),\n",
    "            nn.Dropout(0.3),\n",
    "            nn.Linear(64, 1),\n",
    "            nn.Sigmoid()\n",
    "        )\n",
    "\n",
    "    def forward(self, x):\n",
    "        return self.layers(x)\n",
    "\n",
    "input_size = X_client.shape[1]\n",
    "model = LocalModel(input_size).to(device)\n",
    "\n",
    "# Define Differential Privacy with Gradient Clipping\n",
    "class FedProxLoss(nn.Module):\n",
    "    def __init__(self, mu=0.01):\n",
    "        super(FedProxLoss, self).__init__()\n",
    "        self.mu = mu\n",
    "\n",
    "    def forward(self, preds, labels, local_params, global_params):\n",
    "        base_loss = nn.BCELoss()(preds, labels)\n",
    "        prox_loss = sum((torch.norm(local_param - global_param) ** 2).sum()\n",
    "                        for local_param, global_param in zip(local_params, global_params))\n",
    "        return base_loss + (self.mu / 2) * prox_loss\n",
    "\n",
    "optimizer = optim.Adam(model.parameters(), lr=0.001, weight_decay=1e-4)  # ✅ Reduced learning rate & added weight decay\n",
    "scheduler = StepLR(optimizer, step_size=10, gamma=0.85)\n",
    "fedprox_loss = FedProxLoss(mu=0.01)\n",
    "\n",
    "#  Secure Aggregation and Differential Privacy\n",
    "def clip_gradients(model, max_norm=0.5):  \n",
    "    torch.nn.utils.clip_grad_norm_(model.parameters(), max_norm)\n",
    "\n",
    "#  Flower Client with Secure Aggregation \n",
    "class FLClient(fl.client.NumPyClient):\n",
    "    def __init__(self, model, train_loader):\n",
    "        self.model = model\n",
    "        self.train_loader = train_loader\n",
    "        self.global_params = None\n",
    "\n",
    "    def get_parameters(self, config):\n",
    "        return [val.cpu().detach().numpy() for val in self.model.parameters()]\n",
    "\n",
    "    def set_parameters(self, parameters):\n",
    "        self.global_params = [torch.tensor(p).to(device) for p in parameters]\n",
    "        state_dict = self.model.state_dict()\n",
    "        for name, param in zip(state_dict.keys(), self.global_params):\n",
    "            state_dict[name] = param\n",
    "        self.model.load_state_dict(state_dict)\n",
    "        print(\"✅ Client: Parameters received & updated.\")\n",
    "\n",
    "    def fit(self, parameters, config):\n",
    "        self.set_parameters(parameters)\n",
    "        self.model.train()\n",
    "\n",
    "        total_loss = 0  # Track total loss\n",
    "        correct, total = 0, 0\n",
    "\n",
    "        for epoch in range(10): \n",
    "            for X_batch, y_batch in self.train_loader:\n",
    "                optimizer.zero_grad()\n",
    "                y_pred = self.model(X_batch).squeeze()\n",
    "                loss = fedprox_loss(y_pred, y_batch, list(self.model.parameters()), self.global_params)\n",
    "                loss.backward()\n",
    "                clip_gradients(self.model, max_norm=0.5)  \n",
    "                optimizer.step()\n",
    "                \n",
    "                total_loss += loss.item()  \n",
    "                correct += ((y_pred > 0.5) == y_batch).sum().item()\n",
    "                total += y_batch.size(0)\n",
    "\n",
    "        scheduler.step()\n",
    "        avg_loss = total_loss / len(self.train_loader)  # Compute average loss\n",
    "        client_accuracy = correct / total\n",
    "        print(f\"📌 Client: Training Completed | Accuracy: {client_accuracy:.4f} | Loss: {avg_loss:.4f}\")\n",
    "        return self.get_parameters(config), total, {\"accuracy\": client_accuracy, \"loss\": avg_loss}  # ✅ Include loss\n",
    "\n",
    "    def evaluate(self, parameters, config):\n",
    "        self.set_parameters(parameters)\n",
    "        self.model.eval()\n",
    "        correct, total = 0, 0\n",
    "        with torch.no_grad():\n",
    "            for X_batch, y_batch in self.train_loader:\n",
    "                y_pred = self.model(X_batch).squeeze()\n",
    "                correct += ((y_pred > 0.5) == y_batch).sum().item()\n",
    "                total += y_batch.size(0)\n",
    "        val_accuracy = correct / total\n",
    "        print(f\"📌 Client: Validation Accuracy: {val_accuracy:.4f}\")\n",
    "        return 0.0, total, {\"accuracy\": val_accuracy}\n",
    "\n",
    "# Connect to Server with Secure Aggregation\n",
    "print(\"🚀 Client: Connecting to the global server...\")\n",
    "fl.client.start_client(\n",
    "    server_address=\"localhost:8080\",\n",
    "    client=FLClient(model, train_loader).to_client()\n",
    ")\n"
   ]
  }
 ],
 "metadata": {
  "kernelspec": {
   "display_name": ".venv",
   "language": "python",
   "name": "python3"
  },
  "language_info": {
   "codemirror_mode": {
    "name": "ipython",
    "version": 3
   },
   "file_extension": ".py",
   "mimetype": "text/x-python",
   "name": "python",
   "nbconvert_exporter": "python",
   "pygments_lexer": "ipython3",
   "version": "3.10.11"
  }
 },
 "nbformat": 4,
 "nbformat_minor": 2
}
